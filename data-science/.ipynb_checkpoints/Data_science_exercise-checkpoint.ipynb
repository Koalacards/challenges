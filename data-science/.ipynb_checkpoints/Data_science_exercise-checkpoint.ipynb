{
 "cells": [
  {
   "cell_type": "markdown",
   "metadata": {},
   "source": [
    "# Tagup Data Science Exercise\n",
    "\n",
    "ExampleCo, Inc is gathering several types of data for its fleet of very expensive machines.  These very expensive machines have three operating modes: *normal*, *faulty* and *failed*.   The machines run all the time, and usually they are in normal mode.  However, in the event that the machine enters faulty mode, the company would like to be aware of this as soon as possible.  This way they can take preventative action to avoid entering failed mode and hopefully save themselves lots of money.\n",
    "\n",
    "They collect four kinds of timeseries data for each machine in their fleet of very expensive machines.  When a machine is operating in *normal* mode the data behaves in a fairly predictable way, but with a moderate amount of noise.  Before a machine fails it will ramp into *faulty* mode, during which the data appears visibly quite different.  Finally, when a machine fails it enters a third, and distinctly different, *failed* mode where all signals are very close to 0.\n",
    "\n",
    "You can download the data here: [exampleco_data](https://drive.google.com/open?id=1b12u6rzkG1AxB6wLGl7IBVoaoSoZLHNR)\n",
    "\n",
    "__Your main objective: to develop an automated method to pinpoint the times of fault and failure in this machine__.  Keep in mind that you will be sharing these results with the executives at ExampleCo, so to the best of your ability, try to explain what you are doing, what you've shown, and why you think your predictions are good.\n",
    "\n",
    "\n",
    "A few notes to help:\n",
    "1. A good place to start is by addressing the noise due to communication\n",
    "   errors.\n",
    "2. Feel free to use any libraries you like. Your final results should be\n",
    "   presented in this Python notebook.\n",
    "3. There are no constraints on the techniques you bring to bear, we are curious\n",
    "   to see how you think and what sort of resources you have in your toolbox.\n",
    "4. Be sure to clearly articulate what you did, why you did it, and how the\n",
    "   results should be interpreted. In particular you should be aware of the\n",
    "   limitations of whatever approach or approaches you take.\n",
    "5. Don't feel compelled to use all the data if you're not sure how. Feel free\n",
    "   to focus on data from a single unit if that makes it easier to get started.\n",
    "6. Don't hesitate to reach out to datasciencejobs@tagup.io with any questions!"
   ]
  },
  {
   "cell_type": "code",
   "execution_count": 42,
   "metadata": {
    "scrolled": false
   },
   "outputs": [],
   "source": [
    "# To help you get started...\n",
    "from IPython.display import display\n",
    "import pandas as pd\n",
    "import matplotlib.pyplot as plt\n",
    "from scipy import stats\n",
    "import numpy as np\n",
    "%matplotlib inline \n",
    "\n",
    "#Input the CSV from one of the machines\n",
    "data = pd.read_csv('exampleco_data/machine_13.csv',index_col=0)"
   ]
  },
  {
   "cell_type": "code",
   "execution_count": 43,
   "metadata": {},
   "outputs": [
    {
     "data": {
      "image/png": "[encoded data removed]",
      "text/plain": [
       "<Figure size 432x288 with 1 Axes>"
      ]
     },
     "metadata": {
      "needs_background": "light"
     },
     "output_type": "display_data"
    }
   ],
   "source": [
    "#PART 1: Removing all outliers\n",
    "#This is done by creating an array of the z scores of all the data, then removing all examples whose z score is greater\n",
    "#than or equal to 2 (around a 95% confidence interval)\n",
    "#This should remove a lot of the noise once the machine has failed, as well as a bit before the failure\n",
    "\n",
    "z = np.abs(stats.zscore(data))\n",
    "\n",
    "#axis = 1 \n",
    "data_no_outliers = data[(z<2).all(axis=1)]\n",
    "\n",
    "plt.plot(range(len(data_no_outliers)), data_no_outliers)\n",
    "plt.show()"
   ]
  },
  {
   "cell_type": "code",
   "execution_count": 29,
   "metadata": {},
   "outputs": [
    {
     "data": {
      "text/plain": [
       "\"\\nAccording to this nugget of code, the ordering of the colors is: blue, orange, green, red.\\nThis means that according to the graph we should be checking the fourth column in each CSV (column '3') and comparing it\\nto the first and second columns in each CSV (columns '0' and '1'). Since there is little to no orange in the graphs, it\\nappears that the third column in each CSV (column '2') is overshadowed/irrelevant.\\n\""
      ]
     },
     "execution_count": 29,
     "metadata": {},
     "output_type": "execute_result"
    }
   ],
   "source": [
    "#Before the second part of determining when the machine is normal, faulty or failed: some general intuitions\n",
    "'''\n",
    "From the graph shown above, the three states are pretty discretely shown in their different stages:\n",
    "Starting with the most obvious one, the failure state happens when the graph reaches a constant line at 0 for all colors.\n",
    "\n",
    "Second, it seems like the machine is in the normal state when there is regular noise, and the blue and green lines are higher\n",
    "or lower than the red line. In all cases shown, as long as the red value is within the blue and green values, the machine\n",
    "should be running normally (although this is just an intuition, it may not be the case)\n",
    "\n",
    "From multiple graphs, it also seems like the values in the normal state are always between -50 and 50.\n",
    "\n",
    "Third, the machine should be in the faulty state in between the normal and the failure state, when there is a large amount of \n",
    "noise and the red line dominates over the other lines. From analyzing a couple of the graph, it seems like the red values \n",
    "grow larger and larger until the failure state is reached and everything returns to 0.\n",
    "'''\n",
    "\n",
    "#Figuring out which color is which\n",
    "#print(plt.rcParams['axes.prop_cycle'].by_key()['color'])\n",
    "'''\n",
    "According to this nugget of code, the ordering of the colors is: blue, orange, green, red.\n",
    "This means that according to the graph we should be checking the fourth column in each CSV (column '3') and comparing it\n",
    "to the first and second columns in each CSV (columns '0' and '1'). Since there is little to no orange in the graphs, it\n",
    "appears that the third column in each CSV (column '2') is overshadowed/irrelevant.\n",
    "'''"
   ]
  },
  {
   "cell_type": "code",
   "execution_count": 35,
   "metadata": {},
   "outputs": [
    {
     "name": "stdout",
     "output_type": "stream",
     "text": [
      "Time of fault: 2020-07-12 12:28:05.361787264\n"
     ]
    },
    {
     "data": {
      "text/plain": [
       "'\\nThis for loop returns the first instance to which the red line has a greater value than the blue and green lines,\\nas well as the value of the red line being greater than 50 or less than -50. This goes with the written assumptions above\\nthat this is likely where the normal state transfers into the faulty state.\\n'"
      ]
     },
     "execution_count": 35,
     "metadata": {},
     "output_type": "execute_result"
    }
   ],
   "source": [
    "#Part 2: Finding the timestamp that the machine goes faulty, according to intuition\n",
    "for timestamp, values in data_no_outliers.iterrows():\n",
    "    fourth_column = values[3]\n",
    "    first_column = values[0]\n",
    "    second_column = values[1]\n",
    "    if fourth_column > first_column and fourth_column > second_column and abs(fourth_column) > 50:\n",
    "        print(f'Time of fault: {timestamp}')\n",
    "        break\n",
    "        \n",
    "'''\n",
    "This for loop returns the first instance to which the red line has a greater value than the blue and green lines,\n",
    "as well as the value of the red line being greater than 50 or less than -50. This goes with the written assumptions above\n",
    "that this is likely where the normal state transfers into the faulty state.\n",
    "'''\n",
    "\n",
    "        "
   ]
  },
  {
   "cell_type": "code",
   "execution_count": 41,
   "metadata": {
    "scrolled": true
   },
   "outputs": [
    {
     "name": "stdout",
     "output_type": "stream",
     "text": [
      "Time of failure: 2020-08-15 20:44:34.491497168\n"
     ]
    },
    {
     "data": {
      "text/plain": [
       "'\\nThis for loop returns the first instance to which all of the lines are near 0, within a threshold of 0.5.\\n\\nI chose the threshold of 0.5 because from glancing separately at the data it appears that one failure is reached the values\\nare almost 0, but I wanted to include a buffer in case the machine had failed and the numbers werent as close to 0 as\\nexpected. Also, the values in the faulty state are pretty large (at least for the fourth column, which is usually greater\\nthan 50), so a buffer can be afforded due to how big the difference is.\\n\\n'"
      ]
     },
     "execution_count": 41,
     "metadata": {},
     "output_type": "execute_result"
    }
   ],
   "source": [
    "#Part 3: Finding the timestamp that the machine fails, according to intuition\n",
    "for timestamp, values in data_no_outliers.iterrows():\n",
    "    row_values = [values[0], values[1], values[2], values[3]]\n",
    "    if abs(row_values[0])  < 0.5 and abs(row_values[1]) < 0.5 and abs(row_values[2]) < 0.5 and abs(row_values[3]) < 0.5:\n",
    "        print(f'Time of failure: {timestamp}')\n",
    "        break\n",
    "    \n",
    "    last_row_values = row_values\n",
    "\n",
    "\n",
    "'''\n",
    "This for loop returns the first instance to which all of the lines are near 0, within a threshold of 0.5.\n",
    "\n",
    "I chose the threshold of 0.5 because from glancing separately at the data it appears that one failure is reached the values\n",
    "are almost 0, but I wanted to include a buffer in case the machine had failed and the numbers werent as close to 0 as\n",
    "expected. Also, the values in the faulty state are pretty large (at least for the fourth column, which is usually greater\n",
    "than 50), so a buffer can be afforded due to how big the difference is.\n",
    "\n",
    "'''"
   ]
  },
  {
   "cell_type": "code",
   "execution_count": null,
   "metadata": {},
   "outputs": [],
   "source": [
    "#Part 4: Conclusion\n",
    "'''\n",
    "Why the predictor is good:\n",
    "\n",
    "Provided that the intuitions are correct, this should accurately predict every time the faulty state is reached and \n",
    "the failure state is reached\n",
    "\n",
    "What could be improved in more time:\n",
    "It is not precisely known what the values for each timestamp represent. Analyzing every machine showed a consistent pattern,\n",
    "but if for some reason that pattern changes or the machine changes the predictor would have to be updated. Ultimately, it \n",
    "would be very useful to know what the values were so that some more common sense could be used, and a generalization of \n",
    "the pattern could be created that doesn't depend on hard-coded values (such as 50 for the normal state).\n",
    "\n",
    "If I had more than a few hours, I would:\n",
    "- Analyze the difference between the values more; see if there is a consistent gap between the red and blue/green lines in\n",
    "the normal state, see where the values besides the red line lies in the faulty state, and see if the orange state has any \n",
    "significance (see if it changes between the normal and faulty state). Some different graphs/visualizations would help with\n",
    "that.\n",
    "-Refine the outliers to be different than just a 95% confidence interval z test, making sure that I am not excluding any\n",
    "data that is not actually an outlier\n",
    "-Create more visualizations in general. While the graph in part 1 does a nice job of summing up the three parts, more graphs\n",
    "depicting either the individual columns or the individual sections would have been a plus.\n",
    "\n",
    "Thank you very much for this problem and opportunity! \n",
    "'''"
   ]
  }
 ],
 "metadata": {
  "kernelspec": {
   "display_name": "Python 3",
   "language": "python",
   "name": "python3"
  },
  "language_info": {
   "codemirror_mode": {
    "name": "ipython",
    "version": 3
   },
   "file_extension": ".py",
   "mimetype": "text/x-python",
   "name": "python",
   "nbconvert_exporter": "python",
   "pygments_lexer": "ipython3",
   "version": "3.6.9"
  }
 },
 "nbformat": 4,
 "nbformat_minor": 2
}
